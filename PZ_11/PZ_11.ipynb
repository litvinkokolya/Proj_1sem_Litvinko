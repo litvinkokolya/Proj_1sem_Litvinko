{
  "nbformat": 4,
  "nbformat_minor": 0,
  "metadata": {
    "colab": {
      "name": "PZ_11.ipynb",
      "provenance": []
    },
    "kernelspec": {
      "name": "python3",
      "display_name": "Python 3"
    },
    "language_info": {
      "name": "python"
    }
  },
  "cells": [
    {
      "cell_type": "code",
      "execution_count": 4,
      "metadata": {
        "colab": {
          "base_uri": "https://localhost:8080/"
        },
        "id": "Lbz0pZprbGXU",
        "outputId": "6068af31-79e8-4d66-8809-89975e5abdc0"
      },
      "outputs": [
        {
          "output_type": "stream",
          "name": "stdout",
          "text": [
            "Введите целое число A: -3\n",
            "Удачно!\n",
            "Введите целое число B: 5\n",
            "Удачно!\n",
            "Введите целое число C: 4\n",
            "Удачно!\n",
            "A =  -3\n",
            "B =  5\n",
            "C =  4\n",
            "A положительно:  False\n",
            "B положительно:  True\n",
            "C положительно:  True\n",
            "Каждое из чисел положительное:  False\n"
          ]
        }
      ],
      "source": [
        "A = (input(\"Введите целое число A: \"))\n",
        "try:\n",
        "    A = int(A)\n",
        "    print(\"Удачно!\")\n",
        "\n",
        "except ValueError:\n",
        "    print(\"Что то пошло не так...\")\n",
        "\n",
        "B = (input(\"Введите целое число B: \"))\n",
        "try:\n",
        "    B = int(B)\n",
        "    print(\"Удачно!\")\n",
        "\n",
        "except ValueError:\n",
        "    print(\"Что то пошло не так...\")\n",
        "\n",
        "C = (input(\"Введите целое число C: \"))\n",
        "try:\n",
        "    C = int(C)\n",
        "    print(\"Удачно!\")\n",
        "\n",
        "except ValueError:\n",
        "    print(\"Что то пошло не так...\")\n",
        "\n",
        "print(\"A = \", A)\n",
        "print(\"B = \", B)\n",
        "print(\"C = \", C)\n",
        "\n",
        "# Новые переменные типа bool\n",
        "a = A > 0\n",
        "b = B > 0\n",
        "c = C > 0\n",
        "\n",
        "x = (a and b and c)\n",
        "print(\"A положительно: \", a)\n",
        "print(\"B положительно: \", b)\n",
        "print(\"C положительно: \", c)\n",
        "print(\"Каждое из чисел положительное: \", x)"
      ]
    },
    {
      "cell_type": "markdown",
      "source": [
        "Практическая №3.  Даны три целых числа: A, B, C. Проверить истинность высказывания: «Каждое из чисел A, B, C положительное». Проверки на ввод пользователем целых чисел"
      ],
      "metadata": {
        "id": "9i_Hjjm0dGab"
      }
    },
    {
      "cell_type": "code",
      "source": [
        "N = input(\"Введите целое число: \")\n",
        "\n",
        "\n",
        "while type(N) != int:\n",
        "    try:\n",
        "        N = int(N)\n",
        "    except ValueError:\n",
        "        print(\"Введите число!\")\n",
        "        N = input(\"Введите число\")\n",
        "\n",
        "\n",
        "S = 0.0\n",
        "i = 1\n",
        "print(type(N))\n",
        "while N >= 1:\n",
        "    x = (1 + i * 0.1)*(-1)**(i+1)\n",
        "    S += x\n",
        "    N -= 1\n",
        "    print(i, \":\", x, \":\", S)\n",
        "    i += 1\n",
        "print(\"Сумма = \", S)"
      ],
      "metadata": {
        "colab": {
          "base_uri": "https://localhost:8080/"
        },
        "id": "u9ar67UocjTk",
        "outputId": "625aece6-493a-425a-c07b-22bd4364eadb"
      },
      "execution_count": 5,
      "outputs": [
        {
          "output_type": "stream",
          "name": "stdout",
          "text": [
            "Введите целое число: 15\n",
            "<class 'int'>\n",
            "1 : 1.1 : 1.1\n",
            "2 : -1.2 : -0.09999999999999987\n",
            "3 : 1.3 : 1.2000000000000002\n",
            "4 : -1.4 : -0.19999999999999973\n",
            "5 : 1.5 : 1.3000000000000003\n",
            "6 : -1.6 : -0.2999999999999998\n",
            "7 : 1.7000000000000002 : 1.4000000000000004\n",
            "8 : -1.8 : -0.3999999999999997\n",
            "9 : 1.9 : 1.5000000000000002\n",
            "10 : -2.0 : -0.4999999999999998\n",
            "11 : 2.1 : 1.6000000000000003\n",
            "12 : -2.2 : -0.5999999999999999\n",
            "13 : 2.3 : 1.7\n",
            "14 : -2.4000000000000004 : -0.7000000000000004\n",
            "15 : 2.5 : 1.7999999999999996\n",
            "Сумма =  1.7999999999999996\n"
          ]
        }
      ]
    },
    {
      "cell_type": "markdown",
      "source": [
        "Практическая №4. Дано целое число N (>0). Найти значение выражения 1.1 - 1.2 +1.3 - ... (N слагаемых, знаки чередуются). Условный оператор не использовать."
      ],
      "metadata": {
        "id": "jGgxbb44dQxl"
      }
    },
    {
      "cell_type": "code",
      "source": [
        "def proverka(a): #Функция обработки исключения.\n",
        "    while type(a) != int:\n",
        "        try:\n",
        "            a = int(a)\n",
        "        except ValueError:\n",
        "            print(f\"{a} не может быть числом! Напишите заново.\")\n",
        "            a = input(\"Введите число: \")\n",
        "    return a\n",
        "\n",
        "def summa(): #Функция с призывом функции обработки исключения и расчёта.\n",
        "    stopWord = \"123\"\n",
        "    sum = 0\n",
        "    while stopWord != \"0\":\n",
        "        num = input(\"Введите число: \")\n",
        "        num = proverka(num)\n",
        "        sum += num\n",
        "        stopWord = input(\"Если не хотите больше суммировать числа введите (0), иначе нажмите (Enter)\")\n",
        "    return sum\n",
        "print(f\"Сумма числового ряда равна {summa()}\")"
      ],
      "metadata": {
        "colab": {
          "base_uri": "https://localhost:8080/"
        },
        "id": "hY6dYDyTdCRL",
        "outputId": "cabd77dd-8962-4d7a-a5f7-e2f03d6ca18d"
      },
      "execution_count": 6,
      "outputs": [
        {
          "output_type": "stream",
          "name": "stdout",
          "text": [
            "Введите число: 10\n",
            "Если не хотите больше суммировать числа введите (0), иначе нажмите (Enter)\n",
            "Введите число: 15\n",
            "Если не хотите больше суммировать числа введите (0), иначе нажмите (Enter)\n",
            "Введите число: 4\n",
            "Если не хотите больше суммировать числа введите (0), иначе нажмите (Enter)0\n",
            "Сумма числового ряда равна 29\n"
          ]
        }
      ]
    },
    {
      "cell_type": "markdown",
      "source": [
        "Практическая №5. Составить функцию, которая выполнит суммирования числового ряда."
      ],
      "metadata": {
        "id": "YSvyQ-DAdWYL"
      }
    }
  ]
}